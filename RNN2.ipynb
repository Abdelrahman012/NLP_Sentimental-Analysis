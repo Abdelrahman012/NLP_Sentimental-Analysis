{
  "nbformat": 4,
  "nbformat_minor": 0,
  "metadata": {
    "colab": {
      "name": "Untitled19.ipynb",
      "provenance": []
    },
    "kernelspec": {
      "name": "python3",
      "display_name": "Python 3"
    },
    "language_info": {
      "name": "python"
    }
  },
  "cells": [
    {
      "cell_type": "code",
      "metadata": {
        "id": "GI3krDjefBeb"
      },
      "source": [
        "import numpy as np\n",
        "import pandas as pd\n",
        "import matplotlib.pyplot as plt\n",
        "%matplotlib inline\n",
        "from keras.utils.data_utils import get_file\n",
        "from keras.datasets import imdb\n",
        "from keras.preprocessing import sequence\n",
        "from keras.models import Sequential\n",
        "from keras.layers import Dense, Dropout, Activation, Flatten\n",
        "from keras.layers import Input, Embedding, Reshape, merge, LSTM, Bidirectional\n",
        "from keras.layers import SimpleRNN, TimeDistributed\n",
        "from keras.layers import BatchNormalization\n",
        "from keras.utils import np_utils\n",
        "from keras.layers import Conv1D, MaxPooling1D, ZeroPadding1D\n",
        "from keras.utils import np_utils\n",
        "from tensorflow.keras.optimizers import Adam\n",
        "#import cpickle as pickle\n",
        "#import bcolz\n",
        "import re\n",
        "from numpy.random import random, permutation, randn, normal, uniform, choice"
      ],
      "execution_count": 10,
      "outputs": []
    },
    {
      "cell_type": "code",
      "metadata": {
        "colab": {
          "base_uri": "https://localhost:8080/"
        },
        "id": "WHKDvwgNkQdV",
        "outputId": "c1279319-1912-4d9a-c7e9-9924cd028716"
      },
      "source": [
        "path = get_file('nietzsche.txt', origin=\"https://s3.amazonaws.com/text-datasets/nietzsche.txt\")\n",
        "text = open(path).read()\n",
        "print(len(text))"
      ],
      "execution_count": 12,
      "outputs": [
        {
          "output_type": "stream",
          "name": "stdout",
          "text": [
            "Downloading data from https://s3.amazonaws.com/text-datasets/nietzsche.txt\n",
            "606208/600901 [==============================] - 0s 0us/step\n",
            "614400/600901 [==============================] - 0s 0us/step\n",
            "600893\n"
          ]
        }
      ]
    },
    {
      "cell_type": "code",
      "metadata": {
        "colab": {
          "base_uri": "https://localhost:8080/"
        },
        "id": "yYQ9GXNfklMS",
        "outputId": "d6e2e559-aa43-4d88-8704-4dc11c8c3409"
      },
      "source": [
        "\n",
        "chars = sorted(list(set(text)))\n",
        "print(len(chars)+1)"
      ],
      "execution_count": 21,
      "outputs": [
        {
          "output_type": "stream",
          "name": "stdout",
          "text": [
            "85\n"
          ]
        }
      ]
    },
    {
      "cell_type": "code",
      "metadata": {
        "id": "91DvuQSplNRj"
      },
      "source": [
        "chars=chars.insert(0, '\\0')"
      ],
      "execution_count": 20,
      "outputs": []
    },
    {
      "cell_type": "code",
      "metadata": {
        "id": "JWpwYswEljQW"
      },
      "source": [
        "char_to_index = {v:i for i,v in enumerate(chars)}\n",
        "index_to_char = {i:v for i,v in enumerate(chars)}"
      ],
      "execution_count": 22,
      "outputs": []
    },
    {
      "cell_type": "code",
      "metadata": {
        "id": "L_HFwyKMl3E0"
      },
      "source": [
        "total_index = [char_to_index[char] for char in text]"
      ],
      "execution_count": 23,
      "outputs": []
    },
    {
      "cell_type": "code",
      "metadata": {
        "id": "j7ZroHpUmG1s"
      },
      "source": [
        "pred_num = 25\n",
        "xin = [[total_index[j+i] for j in range(0, len(total_index)-1-pred_num, pred_num)] for i in range(pred_num)]\n",
        "y = [total_index[i+pred_num] for i in range(0, len(total_index)-1-pred_num, pred_num)]"
      ],
      "execution_count": 25,
      "outputs": []
    },
    {
      "cell_type": "code",
      "metadata": {
        "id": "nKod6A_onvCx"
      },
      "source": [
        "\n",
        "X = [np.stack(xin[i][:-2]) for i in range(pred_num)]\n",
        "Y = np.stack(y[:-2])"
      ],
      "execution_count": 26,
      "outputs": []
    },
    {
      "cell_type": "code",
      "metadata": {
        "colab": {
          "base_uri": "https://localhost:8080/"
        },
        "id": "2GzBRyYxn4-s",
        "outputId": "e7f624e8-77e5-45e9-ceae-b90a0882003f"
      },
      "source": [
        "X"
      ],
      "execution_count": 28,
      "outputs": [
        {
          "output_type": "execute_result",
          "data": {
            "text/plain": [
              "[array([39, 43, 57, ..., 57, 56, 53]),\n",
              " array([41, 70, 66, ...,  1, 56, 66]),\n",
              " array([28, 73, 23, ..., 61, 60, 55]),\n",
              " array([29, 72,  1, ..., 66, 61, 72]),\n",
              " array([24, 60, 32, ..., 71, 71, 61]),\n",
              " array([26,  1, 71, ..., 61, 72, 72]),\n",
              " array([28, 61,  1, ..., 71, 71, 77]),\n",
              " array([ 0, 71, 72, ..., 72,  1,  7]),\n",
              " array([ 0,  1, 60, ..., 57, 53,  1]),\n",
              " array([ 0, 53, 57, ..., 56, 71, 62]),\n",
              " array([42,  1, 70, ...,  1,  1, 73]),\n",
              " array([44, 75, 57, ..., 73, 57, 71]),\n",
              " array([39, 67,  1, ..., 68, 71, 72]),\n",
              " array([39, 65, 66, ..., 67, 71,  1]),\n",
              " array([38, 53, 67, ..., 66, 57, 53]),\n",
              " array([42, 66, 72, ...,  1, 66, 71]),\n",
              " array([32,  8,  1, ..., 54, 72,  1]),\n",
              " array([37,  8, 59, ..., 77, 61, 72]),\n",
              " array([30, 75, 70, ...,  1, 53, 60]),\n",
              " array([ 1, 60, 67, ..., 72, 64, 57]),\n",
              " array([72, 53, 73, ..., 60,  1, 77]),\n",
              " array([60, 72, 66, ..., 57, 72,  1]),\n",
              " array([53,  1, 56, ...,  0, 67, 75]),\n",
              " array([72, 72,  0, ..., 25,  1, 57]),\n",
              " array([ 1, 60, 58, ..., 73, 71, 70])]"
            ]
          },
          "metadata": {},
          "execution_count": 28
        }
      ]
    },
    {
      "cell_type": "code",
      "metadata": {
        "colab": {
          "base_uri": "https://localhost:8080/"
        },
        "id": "tksrDsbgpT1Z",
        "outputId": "7110735f-8c30-4872-d373-f6ad1edaeb03"
      },
      "source": [
        ""
      ],
      "execution_count": 36,
      "outputs": [
        {
          "output_type": "execute_result",
          "data": {
            "text/plain": [
              "(24033,)"
            ]
          },
          "metadata": {},
          "execution_count": 36
        }
      ]
    },
    {
      "cell_type": "code",
      "metadata": {
        "id": "NEbDpeYhn6JW"
      },
      "source": [
        "\n",
        "hidden_layers = 256\n",
        "vocab_size = 85\n",
        "n_fac = 42"
      ],
      "execution_count": 31,
      "outputs": []
    },
    {
      "cell_type": "code",
      "metadata": {
        "id": "JLJxbNHloNNg"
      },
      "source": [
        "model = Sequential([\n",
        "        Embedding(vocab_size, n_fac, input_length=25),\n",
        "        SimpleRNN(hidden_layers, activation='relu'),\n",
        "        Dense(vocab_size, activation='softmax')\n",
        "    ])"
      ],
      "execution_count": 46,
      "outputs": []
    },
    {
      "cell_type": "code",
      "metadata": {
        "colab": {
          "base_uri": "https://localhost:8080/"
        },
        "id": "-sW7GFhwq_Xi",
        "outputId": "28a3237f-fa04-46bb-ea24-e3fb3bee4978"
      },
      "source": [
        "model.summary()"
      ],
      "execution_count": 47,
      "outputs": [
        {
          "output_type": "stream",
          "name": "stdout",
          "text": [
            "Model: \"sequential_3\"\n",
            "_________________________________________________________________\n",
            " Layer (type)                Output Shape              Param #   \n",
            "=================================================================\n",
            " embedding_3 (Embedding)     (None, 25, 42)            3570      \n",
            "                                                                 \n",
            " simple_rnn_3 (SimpleRNN)    (None, 256)               76544     \n",
            "                                                                 \n",
            " dense_3 (Dense)             (None, 85)                21845     \n",
            "                                                                 \n",
            "=================================================================\n",
            "Total params: 101,959\n",
            "Trainable params: 101,959\n",
            "Non-trainable params: 0\n",
            "_________________________________________________________________\n"
          ]
        }
      ]
    },
    {
      "cell_type": "code",
      "metadata": {
        "id": "n8VJ_C4soQa2"
      },
      "source": [
        "\n",
        "model.compile(loss='sparse_categorical_crossentropy', optimizer=Adam())"
      ],
      "execution_count": 48,
      "outputs": []
    },
    {
      "cell_type": "code",
      "metadata": {
        "colab": {
          "base_uri": "https://localhost:8080/"
        },
        "id": "glXDNCjrsAtO",
        "outputId": "5ad93c23-add6-42d2-eda1-884bf032f531"
      },
      "source": [
        ""
      ],
      "execution_count": 52,
      "outputs": [
        {
          "output_type": "execute_result",
          "data": {
            "text/plain": [
              "array([[39, 41, 28, ..., 53, 72,  1],\n",
              "       [43, 70, 73, ...,  1, 72, 60],\n",
              "       [57, 66, 23, ..., 56,  0, 58],\n",
              "       ...,\n",
              "       [57,  1, 61, ...,  0, 25, 73],\n",
              "       [56, 56, 60, ..., 67,  1, 71],\n",
              "       [53, 66, 55, ..., 75, 57, 70]])"
            ]
          },
          "metadata": {},
          "execution_count": 52
        }
      ]
    },
    {
      "cell_type": "code",
      "metadata": {
        "colab": {
          "base_uri": "https://localhost:8080/"
        },
        "id": "nY4yW52docnh",
        "outputId": "dd207eae-62f4-436b-83f5-b376fa4bfaff"
      },
      "source": [
        "\n",
        "model.fit(np.stack(X, 1), Y, batch_size=64, epochs=5)"
      ],
      "execution_count": 49,
      "outputs": [
        {
          "output_type": "stream",
          "name": "stdout",
          "text": [
            "Epoch 1/5\n",
            "376/376 [==============================] - 18s 47ms/step - loss: 3.2302\n",
            "Epoch 2/5\n",
            "376/376 [==============================] - 18s 47ms/step - loss: 2.6503\n",
            "Epoch 3/5\n",
            "376/376 [==============================] - 18s 47ms/step - loss: 2.4061\n",
            "Epoch 4/5\n",
            "376/376 [==============================] - 18s 47ms/step - loss: 2.2613\n",
            "Epoch 5/5\n",
            "376/376 [==============================] - 17s 46ms/step - loss: 2.1502\n"
          ]
        },
        {
          "output_type": "execute_result",
          "data": {
            "text/plain": [
              "<keras.callbacks.History at 0x7f26290a97d0>"
            ]
          },
          "metadata": {},
          "execution_count": 49
        }
      ]
    },
    {
      "cell_type": "code",
      "metadata": {
        "id": "EZNEZiSVogjn"
      },
      "source": [
        "def predict_next_char(inp):\n",
        "    index = [char_to_index[i] for i in inp]\n",
        "    arr = np.expand_dims(np.array(index), axis=0)\n",
        "    prediction = model.predict(arr)\n",
        "    return index_to_char[np.argmax(prediction)]\n"
      ],
      "execution_count": 39,
      "outputs": []
    },
    {
      "cell_type": "code",
      "metadata": {
        "colab": {
          "base_uri": "https://localhost:8080/",
          "height": 35
        },
        "id": "n3sVQljmphIm",
        "outputId": "a2dd342e-80dc-487d-e80f-ece3b4d42a79"
      },
      "source": [
        "predict_next_char('those w')"
      ],
      "execution_count": 60,
      "outputs": [
        {
          "output_type": "execute_result",
          "data": {
            "application/vnd.google.colaboratory.intrinsic+json": {
              "type": "string"
            },
            "text/plain": [
              "'h'"
            ]
          },
          "metadata": {},
          "execution_count": 60
        }
      ]
    },
    {
      "cell_type": "code",
      "metadata": {
        "colab": {
          "base_uri": "https://localhost:8080/",
          "height": 35
        },
        "id": "23zgO2DZprc3",
        "outputId": "209a6188-4166-4fcc-e897-a77bc52723b0"
      },
      "source": [
        "predict_next_char(' th')"
      ],
      "execution_count": 61,
      "outputs": [
        {
          "output_type": "execute_result",
          "data": {
            "application/vnd.google.colaboratory.intrinsic+json": {
              "type": "string"
            },
            "text/plain": [
              "'e'"
            ]
          },
          "metadata": {},
          "execution_count": 61
        }
      ]
    },
    {
      "cell_type": "code",
      "metadata": {
        "id": "maUmALP1sayQ"
      },
      "source": [
        ""
      ],
      "execution_count": null,
      "outputs": []
    }
  ]
}